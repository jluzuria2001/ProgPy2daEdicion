{
 "cells": [
  {
   "cell_type": "code",
   "execution_count": 1,
   "metadata": {},
   "outputs": [
    {
     "name": "stdout",
     "output_type": "stream",
     "text": [
      "hola mundo\n"
     ]
    }
   ],
   "source": [
    "#1\n",
    "print(\"hola mundo\")"
   ]
  },
  {
   "cell_type": "code",
   "execution_count": 2,
   "metadata": {},
   "outputs": [
    {
     "data": {
      "text/plain": [
       "12"
      ]
     },
     "execution_count": 2,
     "metadata": {},
     "output_type": "execute_result"
    }
   ],
   "source": [
    "2+10\n"
   ]
  },
  {
   "cell_type": "code",
   "execution_count": 3,
   "metadata": {},
   "outputs": [
    {
     "data": {
      "text/plain": [
       "512"
      ]
     },
     "execution_count": 3,
     "metadata": {},
     "output_type": "execute_result"
    }
   ],
   "source": [
    "8**3"
   ]
  },
  {
   "cell_type": "code",
   "execution_count": 4,
   "metadata": {},
   "outputs": [
    {
     "data": {
      "text/plain": [
       "256.0"
      ]
     },
     "execution_count": 4,
     "metadata": {},
     "output_type": "execute_result"
    }
   ],
   "source": [
    "_ /2"
   ]
  },
  {
   "cell_type": "code",
   "execution_count": 5,
   "metadata": {},
   "outputs": [
    {
     "data": {
      "text/plain": [
       "9"
      ]
     },
     "execution_count": 5,
     "metadata": {},
     "output_type": "execute_result"
    }
   ],
   "source": [
    "x=3\n",
    "y=6+x\n",
    "y"
   ]
  },
  {
   "cell_type": "markdown",
   "metadata": {},
   "source": [
    "#### Esta función realiza la media de dos números"
   ]
  },
  {
   "cell_type": "code",
   "execution_count": 6,
   "metadata": {},
   "outputs": [],
   "source": [
    "def media(a, b):\n",
    "    return(a+b)/2"
   ]
  },
  {
   "cell_type": "code",
   "execution_count": 7,
   "metadata": {},
   "outputs": [
    {
     "data": {
      "text/plain": [
       "25.0"
      ]
     },
     "execution_count": 7,
     "metadata": {},
     "output_type": "execute_result"
    }
   ],
   "source": [
    "media(20,30)"
   ]
  },
  {
   "cell_type": "markdown",
   "metadata": {},
   "source": [
    "\n",
    "## Mi analisis\n",
    "\n",
    "Aqui estan los textos que describen mi analisis\n",
    "\n",
    "1. Procesamiento\n",
    "2. Metodos\n",
    "3. Resultados\n",
    "4. Discusión"
   ]
  },
  {
   "cell_type": "code",
   "execution_count": 9,
   "metadata": {},
   "outputs": [
    {
     "name": "stdout",
     "output_type": "stream",
     "text": [
      " El volumen de la unidad C no tiene etiqueta.\n",
      " El número de serie del volumen es: 6E08-FF86\n",
      "\n",
      " Directorio de C:\\Users\\jluzuriaga\\Documents\\cursoPython2ed\\Unidad8\n",
      "\n",
      "25/07/2022  16:28    <DIR>          .\n",
      "25/07/2022  16:28    <DIR>          ..\n",
      "25/07/2022  16:20    <DIR>          .ipynb_checkpoints\n",
      "25/07/2022  16:28             2.621 Untitled.ipynb\n",
      "               1 archivos          2.621 bytes\n",
      "               3 dirs  21.351.112.704 bytes libres\n"
     ]
    }
   ],
   "source": [
    "!dir ."
   ]
  },
  {
   "cell_type": "code",
   "execution_count": 10,
   "metadata": {},
   "outputs": [
    {
     "data": {
      "application/json": {
       "cell": {
        "!": "OSMagics",
        "HTML": "Other",
        "SVG": "Other",
        "bash": "Other",
        "capture": "ExecutionMagics",
        "cmd": "Other",
        "debug": "ExecutionMagics",
        "file": "Other",
        "html": "DisplayMagics",
        "javascript": "DisplayMagics",
        "js": "DisplayMagics",
        "latex": "DisplayMagics",
        "markdown": "DisplayMagics",
        "perl": "Other",
        "prun": "ExecutionMagics",
        "pypy": "Other",
        "python": "Other",
        "python2": "Other",
        "python3": "Other",
        "ruby": "Other",
        "script": "ScriptMagics",
        "sh": "Other",
        "svg": "DisplayMagics",
        "sx": "OSMagics",
        "system": "OSMagics",
        "time": "ExecutionMagics",
        "timeit": "ExecutionMagics",
        "writefile": "OSMagics"
       },
       "line": {
        "alias": "OSMagics",
        "alias_magic": "BasicMagics",
        "autoawait": "AsyncMagics",
        "autocall": "AutoMagics",
        "automagic": "AutoMagics",
        "autosave": "KernelMagics",
        "bookmark": "OSMagics",
        "cd": "OSMagics",
        "clear": "KernelMagics",
        "cls": "KernelMagics",
        "colors": "BasicMagics",
        "conda": "PackagingMagics",
        "config": "ConfigMagics",
        "connect_info": "KernelMagics",
        "copy": "Other",
        "ddir": "Other",
        "debug": "ExecutionMagics",
        "dhist": "OSMagics",
        "dirs": "OSMagics",
        "doctest_mode": "BasicMagics",
        "echo": "Other",
        "ed": "Other",
        "edit": "KernelMagics",
        "env": "OSMagics",
        "gui": "BasicMagics",
        "hist": "Other",
        "history": "HistoryMagics",
        "killbgscripts": "ScriptMagics",
        "ldir": "Other",
        "less": "KernelMagics",
        "load": "CodeMagics",
        "load_ext": "ExtensionMagics",
        "loadpy": "CodeMagics",
        "logoff": "LoggingMagics",
        "logon": "LoggingMagics",
        "logstart": "LoggingMagics",
        "logstate": "LoggingMagics",
        "logstop": "LoggingMagics",
        "ls": "Other",
        "lsmagic": "BasicMagics",
        "macro": "ExecutionMagics",
        "magic": "BasicMagics",
        "matplotlib": "PylabMagics",
        "mkdir": "Other",
        "more": "KernelMagics",
        "notebook": "BasicMagics",
        "page": "BasicMagics",
        "pastebin": "CodeMagics",
        "pdb": "ExecutionMagics",
        "pdef": "NamespaceMagics",
        "pdoc": "NamespaceMagics",
        "pfile": "NamespaceMagics",
        "pinfo": "NamespaceMagics",
        "pinfo2": "NamespaceMagics",
        "pip": "PackagingMagics",
        "popd": "OSMagics",
        "pprint": "BasicMagics",
        "precision": "BasicMagics",
        "prun": "ExecutionMagics",
        "psearch": "NamespaceMagics",
        "psource": "NamespaceMagics",
        "pushd": "OSMagics",
        "pwd": "OSMagics",
        "pycat": "OSMagics",
        "pylab": "PylabMagics",
        "qtconsole": "KernelMagics",
        "quickref": "BasicMagics",
        "recall": "HistoryMagics",
        "rehashx": "OSMagics",
        "reload_ext": "ExtensionMagics",
        "ren": "Other",
        "rep": "Other",
        "rerun": "HistoryMagics",
        "reset": "NamespaceMagics",
        "reset_selective": "NamespaceMagics",
        "rmdir": "Other",
        "run": "ExecutionMagics",
        "save": "CodeMagics",
        "sc": "OSMagics",
        "set_env": "OSMagics",
        "store": "StoreMagics",
        "sx": "OSMagics",
        "system": "OSMagics",
        "tb": "ExecutionMagics",
        "time": "ExecutionMagics",
        "timeit": "ExecutionMagics",
        "unalias": "OSMagics",
        "unload_ext": "ExtensionMagics",
        "who": "NamespaceMagics",
        "who_ls": "NamespaceMagics",
        "whos": "NamespaceMagics",
        "xdel": "NamespaceMagics",
        "xmode": "BasicMagics"
       }
      },
      "text/plain": [
       "Available line magics:\n",
       "%alias  %alias_magic  %autoawait  %autocall  %automagic  %autosave  %bookmark  %cd  %clear  %cls  %colors  %conda  %config  %connect_info  %copy  %ddir  %debug  %dhist  %dirs  %doctest_mode  %echo  %ed  %edit  %env  %gui  %hist  %history  %killbgscripts  %ldir  %less  %load  %load_ext  %loadpy  %logoff  %logon  %logstart  %logstate  %logstop  %ls  %lsmagic  %macro  %magic  %matplotlib  %mkdir  %more  %notebook  %page  %pastebin  %pdb  %pdef  %pdoc  %pfile  %pinfo  %pinfo2  %pip  %popd  %pprint  %precision  %prun  %psearch  %psource  %pushd  %pwd  %pycat  %pylab  %qtconsole  %quickref  %recall  %rehashx  %reload_ext  %ren  %rep  %rerun  %reset  %reset_selective  %rmdir  %run  %save  %sc  %set_env  %store  %sx  %system  %tb  %time  %timeit  %unalias  %unload_ext  %who  %who_ls  %whos  %xdel  %xmode\n",
       "\n",
       "Available cell magics:\n",
       "%%!  %%HTML  %%SVG  %%bash  %%capture  %%cmd  %%debug  %%file  %%html  %%javascript  %%js  %%latex  %%markdown  %%perl  %%prun  %%pypy  %%python  %%python2  %%python3  %%ruby  %%script  %%sh  %%svg  %%sx  %%system  %%time  %%timeit  %%writefile\n",
       "\n",
       "Automagic is ON, % prefix IS NOT needed for line magics."
      ]
     },
     "execution_count": 10,
     "metadata": {},
     "output_type": "execute_result"
    }
   ],
   "source": [
    "%lsmagic"
   ]
  },
  {
   "cell_type": "code",
   "execution_count": 13,
   "metadata": {},
   "outputs": [],
   "source": [
    "%who?\n"
   ]
  },
  {
   "cell_type": "code",
   "execution_count": 14,
   "metadata": {},
   "outputs": [],
   "source": [
    "%%writefile?"
   ]
  },
  {
   "cell_type": "code",
   "execution_count": 15,
   "metadata": {},
   "outputs": [
    {
     "name": "stdout",
     "output_type": "stream",
     "text": [
      "Writing prueba.txt\n"
     ]
    }
   ],
   "source": [
    "%%writefile prueba.txt\n",
    "Hola mundo de jupyter notebooks"
   ]
  },
  {
   "cell_type": "code",
   "execution_count": 16,
   "metadata": {
    "scrolled": true
   },
   "outputs": [
    {
     "name": "stdout",
     "output_type": "stream",
     "text": [
      " El volumen de la unidad C no tiene etiqueta.\n",
      " El número de serie del volumen es: 6E08-FF86\n",
      "\n",
      " Directorio de C:\\Users\\jluzuriaga\\Documents\\cursoPython2ed\\Unidad8\n",
      "\n",
      "25/07/2022  16:35    <DIR>          .\n",
      "25/07/2022  16:35    <DIR>          ..\n",
      "25/07/2022  16:20    <DIR>          .ipynb_checkpoints\n",
      "25/07/2022  16:35                33 prueba.txt\n",
      "25/07/2022  16:34             9.332 Untitled.ipynb\n",
      "               2 archivos          9.365 bytes\n",
      "               3 dirs  21.349.806.080 bytes libres\n"
     ]
    }
   ],
   "source": [
    "!dir ."
   ]
  },
  {
   "cell_type": "code",
   "execution_count": 18,
   "metadata": {},
   "outputs": [
    {
     "name": "stdout",
     "output_type": "stream",
     "text": [
      "1 Hola mundo de jupyter notebooks\n",
      "2 Hola mundo de jupyter notebooks\n",
      "3 Hola mundo de jupyter notebooks\n",
      "4 Hola mundo de jupyter notebooks\n",
      "5 Hola mundo de jupyter notebooks\n",
      "\n"
     ]
    }
   ],
   "source": [
    "with open (\"prueba.txt\", \"r\") as file:\n",
    "    print(file.read())"
   ]
  },
  {
   "cell_type": "code",
   "execution_count": 20,
   "metadata": {},
   "outputs": [],
   "source": [
    "from IPython.display import HTML"
   ]
  },
  {
   "cell_type": "code",
   "execution_count": 22,
   "metadata": {},
   "outputs": [
    {
     "data": {
      "text/html": [
       "\n",
       "<table>\n",
       "<thead>\n",
       "  <tr>\n",
       "    <th>nombre</th>\n",
       "    <th>apellido</th>\n",
       "    <th>edad</th>\n",
       "  </tr>\n",
       "</thead>\n",
       "<tbody>\n",
       "  <tr>\n",
       "    <td>juan</td>\n",
       "    <td>lopez</td>\n",
       "    <td></td>\n",
       "  </tr>\n",
       "  <tr>\n",
       "    <td>pedro </td>\n",
       "    <td>martinez</td>\n",
       "    <td></td>\n",
       "  </tr>\n",
       "  <tr>\n",
       "    <td>luis</td>\n",
       "    <td>puig</td>\n",
       "    <td></td>\n",
       "  </tr>\n",
       "</tbody>\n",
       "</table>\n"
      ],
      "text/plain": [
       "<IPython.core.display.HTML object>"
      ]
     },
     "execution_count": 22,
     "metadata": {},
     "output_type": "execute_result"
    }
   ],
   "source": [
    "HTML('''\n",
    "<table>\n",
    "<thead>\n",
    "  <tr>\n",
    "    <th>nombre</th>\n",
    "    <th>apellido</th>\n",
    "    <th>edad</th>\n",
    "  </tr>\n",
    "</thead>\n",
    "<tbody>\n",
    "  <tr>\n",
    "    <td>juan</td>\n",
    "    <td>lopez</td>\n",
    "    <td></td>\n",
    "  </tr>\n",
    "  <tr>\n",
    "    <td>pedro </td>\n",
    "    <td>martinez</td>\n",
    "    <td></td>\n",
    "  </tr>\n",
    "  <tr>\n",
    "    <td>luis</td>\n",
    "    <td>puig</td>\n",
    "    <td></td>\n",
    "  </tr>\n",
    "</tbody>\n",
    "</table>\n",
    "''')"
   ]
  },
  {
   "cell_type": "code",
   "execution_count": 23,
   "metadata": {},
   "outputs": [],
   "source": [
    "from IPython.display import SVG"
   ]
  },
  {
   "cell_type": "code",
   "execution_count": 25,
   "metadata": {
    "scrolled": true
   },
   "outputs": [
    {
     "data": {
      "image/svg+xml": [
       "<svg width=\"500\" height=\"500\">\n",
       "  <g transform=\"translate(100,100)\">\n",
       "    <text id=\"TextElement\" x=\"0\" y=\"0\" style=\"font-family:Verdana;font-size:24\"> It's SVG!\n",
       "      <animateMotion path=\"M 0 0 L 100 100\" dur=\"5s\" fill=\"freeze\"/>\n",
       "    </text>\n",
       "  </g>\n",
       "</svg>"
      ],
      "text/plain": [
       "<IPython.core.display.SVG object>"
      ]
     },
     "execution_count": 25,
     "metadata": {},
     "output_type": "execute_result"
    }
   ],
   "source": [
    "SVG('''\n",
    "<svg width=\"500\" height=\"500\">\n",
    "  <g transform=\"translate(100,100)\">\n",
    "    <text id=\"TextElement\" x=\"0\" y=\"0\" style=\"font-family:Verdana;font-size:24\"> It's SVG!\n",
    "      <animateMotion path=\"M 0 0 L 100 100\" dur=\"5s\" fill=\"freeze\" />\n",
    "    </text>\n",
    "  </g>\n",
    "</svg>\n",
    "''')"
   ]
  },
  {
   "cell_type": "code",
   "execution_count": 26,
   "metadata": {},
   "outputs": [
    {
     "data": {
      "image/svg+xml": [
       "<svg width=\"600\" height=\"80\"><circle cx=\"300\" cy=\"30\" r=\"0.0\" fill=\"red\" stroke-width=\"2\" stroke=\"black\">\n",
       "        </circle><circle cx=\"297\" cy=\"30\" r=\"3.0\" fill=\"red\" stroke-width=\"2\" stroke=\"black\">\n",
       "        </circle><circle cx=\"288\" cy=\"30\" r=\"6.0\" fill=\"red\" stroke-width=\"2\" stroke=\"black\">\n",
       "        </circle><circle cx=\"273\" cy=\"30\" r=\"9.0\" fill=\"red\" stroke-width=\"2\" stroke=\"black\">\n",
       "        </circle><circle cx=\"252\" cy=\"30\" r=\"12.0\" fill=\"red\" stroke-width=\"2\" stroke=\"black\">\n",
       "        </circle><circle cx=\"225\" cy=\"30\" r=\"15.0\" fill=\"red\" stroke-width=\"2\" stroke=\"black\">\n",
       "        </circle><circle cx=\"192\" cy=\"30\" r=\"18.0\" fill=\"red\" stroke-width=\"2\" stroke=\"black\">\n",
       "        </circle><circle cx=\"153\" cy=\"30\" r=\"21.0\" fill=\"red\" stroke-width=\"2\" stroke=\"black\">\n",
       "        </circle><circle cx=\"108\" cy=\"30\" r=\"24.0\" fill=\"red\" stroke-width=\"2\" stroke=\"black\">\n",
       "        </circle><circle cx=\"57\" cy=\"30\" r=\"27.0\" fill=\"red\" stroke-width=\"2\" stroke=\"black\">\n",
       "        </circle></svg>"
      ],
      "text/plain": [
       "<IPython.core.display.SVG object>"
      ]
     },
     "execution_count": 26,
     "metadata": {},
     "output_type": "execute_result"
    }
   ],
   "source": [
    "SVG('''\n",
    "<svg width=\"600\" height=\"80\">''' +\n",
    "    ''.join([f'''<circle\n",
    "              cx=\"{(30 + 3*i) * (10 - i)}\"\n",
    "              cy=\"30\"\n",
    "              r=\"{3. * float(i)}\"\n",
    "              fill=\"red\"\n",
    "              stroke-width=\"2\"\n",
    "              stroke=\"black\">\n",
    "        </circle>''' for i in range(10)]) +\n",
    "    '''</svg>\n",
    "''')"
   ]
  },
  {
   "cell_type": "code",
   "execution_count": 27,
   "metadata": {},
   "outputs": [
    {
     "data": {
      "image/svg+xml": [
       "<svg xmlns=\"http://www.w3.org/2000/svg\" xmlns:xlink=\"http://www.w3.org/1999/xlink\" width=\"100%\" height=\"100%\" viewBox=\"0 0 1000 500\">\n",
       "<defs id=\"DEF\">\n",
       "<linearGradient id=\"rhue\">\n",
       "    <stop offset=\"0\" id=\"ro0\" stop-color=\"red\"/>\n",
       "    <stop offset=\".25\" id=\"ro1\" stop-color=\"blue\"/>\n",
       "    <stop offset=\".75\" id=\"ro2\" stop-color=\"yellow\"/>\n",
       "    <stop offset=\"1\" id=\"ro3\" stop-color=\"green\"/>\n",
       "</linearGradient>\n",
       "</defs>\n",
       "<ellipse cx=\"290\" cy=\"250\" rx=\"80\" ry=\"80\">\n",
       "    <animate attributeName=\"fill\" dur=\"5s\" values=\"#ff8; #f88; #f8f; #88f; #8ff; #8f8\" repeatCount=\"indefinite\"/>\n",
       "</ellipse>\n",
       "<g id=\"penta\">\n",
       "        <g id=\"R1\" transform=\"translate(200 250)\">\n",
       "        <ellipse cx=\"0\" cy=\"0\" rx=\"100\" ry=\"30\" opacity=\".4\" fill=\"url(#rhue)\">\n",
       "            <animateTransform attributeName=\"transform\" type=\"rotate\" dur=\"7s\" from=\"0\" to=\"360\" repeatCount=\"indefinite\"/>\n",
       "            <animate attributeName=\"cx\" dur=\"8s\" values=\"-20; 120; -20\" repeatCount=\"indefinite\"/>\n",
       "            <animate attributeName=\"ry\" dur=\"3s\" values=\"10; 60; 10\" repeatCount=\"indefinite\"/>\n",
       "        </ellipse>\n",
       "        </g>\n",
       "        <use xlink:href=\"#R1\" transform=\"rotate(30 300 250)\"/>\n",
       "        <use xlink:href=\"#R1\" transform=\"rotate(60 300 250)\"/>\n",
       "        <use xlink:href=\"#R1\" transform=\"rotate(90 300 250)\"/>\n",
       "        <use xlink:href=\"#R1\" transform=\"rotate(120 300 250)\"/>\n",
       "</g>\n",
       "<use xlink:href=\"#penta\" transform=\"rotate(72 290 250)\"/>\n",
       "<use xlink:href=\"#penta\" transform=\"rotate(144 290 250)\"/>\n",
       "<use xlink:href=\"#penta\" transform=\"rotate(216 290 250)\"/>\n",
       "<use xlink:href=\"#penta\" transform=\"rotate(288 290 250)\"/>\n",
       "</svg>"
      ],
      "text/plain": [
       "<IPython.core.display.SVG object>"
      ]
     },
     "execution_count": 27,
     "metadata": {},
     "output_type": "execute_result"
    }
   ],
   "source": [
    "SVG('''\n",
    "<svg width=\"100%\" height=\"100%\"\n",
    "  xmlns=\"http://www.w3.org/2000/svg\"\n",
    "  xmlns:xlink=\"http://www.w3.org/1999/xlink\"\n",
    "  viewBox=\"0 0 1000 500\"\n",
    ">\n",
    "<defs id=\"DEF\">\n",
    "<linearGradient id=\"rhue\">\n",
    "    <stop offset=\"0\" id=\"ro0\" stop-color=\"red\"/>\n",
    "    <stop offset=\".25\" id=\"ro1\" stop-color=\"blue\"/>\n",
    "    <stop offset=\".75\" id=\"ro2\" stop-color=\"yellow\"/>\n",
    "    <stop offset=\"1\" id=\"ro3\" stop-color=\"green\"/>\n",
    "</linearGradient>\n",
    "</defs>\n",
    "<ellipse cx=\"290\" cy=\"250\" rx=\"80\" ry=\"80\">\n",
    "    <animate attributeName=\"fill\" dur=\"5s\" values=\"#ff8; #f88; #f8f; #88f; #8ff; #8f8\" repeatCount=\"indefinite\"/>\n",
    "</ellipse>\n",
    "<g id=\"penta\">\n",
    "        <g id=\"R1\" transform=\"translate(200 250)\">\n",
    "        <ellipse cx=\"0\" cy=\"0\" rx=\"100\" ry=\"30\" opacity=\".4\" fill=\"url(#rhue)\">\n",
    "            <animateTransform attributeName=\"transform\" type=\"rotate\" dur=\"7s\" from=\"0\" to=\"360\" repeatCount=\"indefinite\"/>\n",
    "            <animate attributeName=\"cx\" dur=\"8s\" values=\"-20; 120; -20\" repeatCount=\"indefinite\"/>\n",
    "            <animate attributeName=\"ry\" dur=\"3s\" values=\"10; 60; 10\" repeatCount=\"indefinite\"/>\n",
    "        </ellipse>\n",
    "        </g>\n",
    "        <use xlink:href=\"#R1\" transform=\"rotate(30 300 250)\"/>\n",
    "        <use xlink:href=\"#R1\" transform=\"rotate(60 300 250)\"/>\n",
    "        <use xlink:href=\"#R1\" transform=\"rotate(90 300 250)\"/>\n",
    "        <use xlink:href=\"#R1\" transform=\"rotate(120 300 250)\"/>\n",
    "</g>\n",
    "<use xlink:href=\"#penta\" transform=\"rotate(72 290 250)\"/>\n",
    "<use xlink:href=\"#penta\" transform=\"rotate(144 290 250)\"/>\n",
    "<use xlink:href=\"#penta\" transform=\"rotate(216 290 250)\"/>\n",
    "<use xlink:href=\"#penta\" transform=\"rotate(288 290 250)\"/>\n",
    "</svg>\n",
    "''')"
   ]
  },
  {
   "cell_type": "code",
   "execution_count": 28,
   "metadata": {},
   "outputs": [],
   "source": [
    "from IPython.display import YouTubeVideo"
   ]
  },
  {
   "cell_type": "code",
   "execution_count": 32,
   "metadata": {},
   "outputs": [
    {
     "data": {
      "image/jpeg": "[encoded data removed]",
      "text/html": [
       "\n",
       "        <iframe\n",
       "            width=\"400\"\n",
       "            height=\"300\"\n",
       "            src=\"https://www.youtube.com/embed/pL-i4Lcgk2w\"\n",
       "            frameborder=\"0\"\n",
       "            allowfullscreen\n",
       "        ></iframe>\n",
       "        "
      ],
      "text/plain": [
       "<IPython.lib.display.YouTubeVideo at 0x2155e703790>"
      ]
     },
     "execution_count": 32,
     "metadata": {},
     "output_type": "execute_result"
    }
   ],
   "source": [
    "YouTubeVideo('pL-i4Lcgk2w')"
   ]
  }
 ],
 "metadata": {
  "kernelspec": {
   "display_name": "Python 3",
   "language": "python",
   "name": "python3"
  },
  "language_info": {
   "codemirror_mode": {
    "name": "ipython",
    "version": 3
   },
   "file_extension": ".py",
   "mimetype": "text/x-python",
   "name": "python",
   "nbconvert_exporter": "python",
   "pygments_lexer": "ipython3",
   "version": "3.8.5"
  }
 },
 "nbformat": 4,
 "nbformat_minor": 4
}
